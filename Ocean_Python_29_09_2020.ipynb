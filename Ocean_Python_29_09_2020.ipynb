{
  "nbformat": 4,
  "nbformat_minor": 0,
  "metadata": {
    "colab": {
      "name": "Ocean_Python_29_09_2020.ipynb",
      "provenance": [],
      "collapsed_sections": [],
      "authorship_tag": "ABX9TyPCz3srebolYSg8NwoD1qTW",
      "include_colab_link": true
    },
    "kernelspec": {
      "name": "python3",
      "display_name": "Python 3"
    }
  },
  "cells": [
    {
      "cell_type": "markdown",
      "metadata": {
        "id": "view-in-github",
        "colab_type": "text"
      },
      "source": [
        "<a href=\"https://colab.research.google.com/github/irlaandrade/Ocean_Python_29_09_2020/blob/master/Ocean_Python_29_09_2020.ipynb\" target=\"_parent\"><img src=\"https://colab.research.google.com/assets/colab-badge.svg\" alt=\"Open In Colab\"/></a>"
      ]
    },
    {
      "cell_type": "code",
      "metadata": {
        "id": "x0xXuGDr1Tna",
        "outputId": "dc3e17e0-8cc2-43c4-b324-3def9f88db8d",
        "colab": {
          "base_uri": "https://localhost:8080/",
          "height": 34
        }
      },
      "source": [
        "administrador = False # Boolean - booleano - bool\n",
        "\n",
        "print(administrador)"
      ],
      "execution_count": 1,
      "outputs": [
        {
          "output_type": "stream",
          "text": [
            "False\n"
          ],
          "name": "stdout"
        }
      ]
    },
    {
      "cell_type": "code",
      "metadata": {
        "id": "f01OI_lo5dxQ",
        "outputId": "e2e5fd97-3281-43d0-e78e-874e22303092",
        "colab": {
          "base_uri": "https://localhost:8080/",
          "height": 51
        }
      },
      "source": [
        "# Comparação - Igual\n",
        "\n",
        "comparacao_igual = (1 == 1)\n",
        "\n",
        "\n",
        "print(comparacao_igual)\n",
        "\n",
        "print(1 == 1)"
      ],
      "execution_count": 4,
      "outputs": [
        {
          "output_type": "stream",
          "text": [
            "True\n",
            "True\n"
          ],
          "name": "stdout"
        }
      ]
    },
    {
      "cell_type": "code",
      "metadata": {
        "id": "Cr4V13V75v7o",
        "outputId": "34e06969-5050-49b7-d867-da72458ae317",
        "colab": {
          "base_uri": "https://localhost:8080/",
          "height": 34
        }
      },
      "source": [
        "# Comparação - Diferente\n",
        "\n",
        "comparacao_diferente = 1 != 1\n",
        "\n",
        "print(comparacao_diferente)"
      ],
      "execution_count": 5,
      "outputs": [
        {
          "output_type": "stream",
          "text": [
            "False\n"
          ],
          "name": "stdout"
        }
      ]
    },
    {
      "cell_type": "code",
      "metadata": {
        "id": "33UtM4nd59CX",
        "outputId": "b6702a6f-3053-47c4-80f0-0e3c773c9277",
        "colab": {
          "base_uri": "https://localhost:8080/",
          "height": 85
        }
      },
      "source": [
        "# Operadores de Comparação\n",
        "\n",
        "print(1 == 2) # False\n",
        "print(1 != 2) # True\n",
        "print(1 < 2) # True\n",
        "print(1 > 0) # True\n",
        "print(1 >= 1) # True\n",
        "print(5 <= 5) # True"
      ],
      "execution_count": 7,
      "outputs": [
        {
          "output_type": "stream",
          "text": [
            "True\n",
            "True\n",
            "True\n",
            "True\n"
          ],
          "name": "stdout"
        }
      ]
    },
    {
      "cell_type": "code",
      "metadata": {
        "id": "wUuUbu_96Mwc",
        "outputId": "6ab2758c-bfc5-4aaf-ded8-86b7ea442b6b",
        "colab": {
          "base_uri": "https://localhost:8080/",
          "height": 102
        }
      },
      "source": [
        "print(17 < 328)\n",
        "print(100 == (2 * 50))\n",
        "print(19 <= 19)\n",
        "print(-22 >= -18)\n",
        "print(99 != (98 + 1))"
      ],
      "execution_count": 9,
      "outputs": [
        {
          "output_type": "stream",
          "text": [
            "True\n",
            "True\n",
            "True\n",
            "False\n",
            "False\n"
          ],
          "name": "stdout"
        }
      ]
    },
    {
      "cell_type": "code",
      "metadata": {
        "id": "CosdwUW76zgk",
        "outputId": "797eb74d-75f2-4c96-8183-aac64f8f48b8",
        "colab": {
          "base_uri": "https://localhost:8080/",
          "height": 102
        }
      },
      "source": [
        "print((20 - 10) > 15) # False\n",
        "print((10 + 17) == 3 ** 16) # False\n",
        "print(1 ** 2 <= -1) # False\n",
        "print(40 * 4 >= -4) # True\n",
        "print(100 != 10 ** 2) # False"
      ],
      "execution_count": 12,
      "outputs": [
        {
          "output_type": "stream",
          "text": [
            "False\n",
            "False\n",
            "False\n",
            "True\n",
            "False\n"
          ],
          "name": "stdout"
        }
      ]
    },
    {
      "cell_type": "code",
      "metadata": {
        "id": "V8cgc5iC7mFK",
        "outputId": "138f7546-8c1c-4f1d-db7b-161f8c9c62e7",
        "colab": {
          "base_uri": "https://localhost:8080/",
          "height": 85
        }
      },
      "source": [
        "print(\"Rei\" == \"Rei Arthur\") # False\n",
        "print(\"Rei\" != \"Rei Arthur\") # True\n",
        "print(1 == \"1\") # True e False ao mesmo tempo?\n",
        "print(\"1\" == \"1\") #True"
      ],
      "execution_count": 13,
      "outputs": [
        {
          "output_type": "stream",
          "text": [
            "False\n",
            "True\n",
            "False\n",
            "True\n"
          ],
          "name": "stdout"
        }
      ]
    },
    {
      "cell_type": "markdown",
      "metadata": {
        "id": "vATNYJgs8p_z"
      },
      "source": [
        "# Atividade\n",
        "\n",
        "Agora faremos o contrário. Declare variáveis que o resultado das comprações deve ser:\n",
        "\n",
        "```\n",
        "True\n",
        "True\n",
        "False\n",
        "True\n",
        "False\n",
        "```\n"
      ]
    },
    {
      "cell_type": "code",
      "metadata": {
        "id": "NWCWwedr88u6",
        "outputId": "73969c4f-e94a-4601-c3c3-847ae857b842",
        "colab": {
          "base_uri": "https://localhost:8080/",
          "height": 102
        }
      },
      "source": [
        "print(5 > 3) # True\n",
        "print(10 <= 50) # True\n",
        "print(2 != 2) # False\n",
        "print(\"p\" == \"p\") #True\n",
        "print(10 ** 2 == 20) # False"
      ],
      "execution_count": 18,
      "outputs": [
        {
          "output_type": "stream",
          "text": [
            "True\n",
            "True\n",
            "False\n",
            "True\n",
            "False\n"
          ],
          "name": "stdout"
        }
      ]
    },
    {
      "cell_type": "code",
      "metadata": {
        "id": "22VdRC6o9hiq",
        "outputId": "d8e1caf4-9376-43f1-aaef-6e090e046c25",
        "colab": {
          "base_uri": "https://localhost:8080/",
          "height": 102
        }
      },
      "source": [
        "# Operações de comparação - and\n",
        "\n",
        "# And: Todos os lados precisam ser True para que o resultado seja True\n",
        "# Not: Inverte o operador booleano, ou seja, False vira True e True vira False\n",
        "\n",
        "print(True and True) # True\n",
        "print(True and False) # False\n",
        "print(False and False) # False\n",
        "print(not (False and True)) # True\n",
        "print(not False and False) # False"
      ],
      "execution_count": 22,
      "outputs": [
        {
          "output_type": "stream",
          "text": [
            "True\n",
            "False\n",
            "False\n",
            "True\n",
            "False\n"
          ],
          "name": "stdout"
        }
      ]
    },
    {
      "cell_type": "code",
      "metadata": {
        "id": "9u6RGOsV_kDu",
        "outputId": "f8c5b3b3-4522-4711-e717-789aa2f5d0d8",
        "colab": {
          "base_uri": "https://localhost:8080/",
          "height": 102
        }
      },
      "source": [
        "# Or: Precisa que apenas um dos lados seja True\n",
        "\n",
        "print(True or True) # True\n",
        "print(True or False) # True\n",
        "print(False or False) # False\n",
        "print(not (True or False)) # False\n",
        "print(not False or True) # True"
      ],
      "execution_count": 23,
      "outputs": [
        {
          "output_type": "stream",
          "text": [
            "True\n",
            "True\n",
            "False\n",
            "False\n",
            "True\n"
          ],
          "name": "stdout"
        }
      ]
    },
    {
      "cell_type": "code",
      "metadata": {
        "id": "6HZrJz0UAMMd",
        "outputId": "fc208232-8460-4766-a5c8-99f157eebc33",
        "colab": {
          "base_uri": "https://localhost:8080/",
          "height": 68
        }
      },
      "source": [
        "print(not (not (True))) # True\n",
        "print(not True != (not False) or True == False) # True\n",
        "print(True == False and True) # False"
      ],
      "execution_count": 26,
      "outputs": [
        {
          "output_type": "stream",
          "text": [
            "True\n",
            "True\n",
            "False\n"
          ],
          "name": "stdout"
        }
      ]
    }
  ]
}