{
  "nbformat": 4,
  "nbformat_minor": 0,
  "metadata": {
    "colab": {
      "name": "Ocean_Python_29_09_2020.ipynb",
      "provenance": [],
      "collapsed_sections": [],
      "authorship_tag": "ABX9TyOJjDAW5wslbFThSJmT1npu",
      "include_colab_link": true
    },
    "kernelspec": {
      "name": "python3",
      "display_name": "Python 3"
    }
  },
  "cells": [
    {
      "cell_type": "markdown",
      "metadata": {
        "id": "view-in-github",
        "colab_type": "text"
      },
      "source": [
        "<a href=\"https://colab.research.google.com/github/irlaandrade/Ocean_Python_29_09_2020/blob/master/Ocean_Python_29_09_2020.ipynb\" target=\"_parent\"><img src=\"https://colab.research.google.com/assets/colab-badge.svg\" alt=\"Open In Colab\"/></a>"
      ]
    },
    {
      "cell_type": "code",
      "metadata": {
        "id": "x0xXuGDr1Tna",
        "outputId": "dc3e17e0-8cc2-43c4-b324-3def9f88db8d",
        "colab": {
          "base_uri": "https://localhost:8080/",
          "height": 34
        }
      },
      "source": [
        "administrador = False # Boolean - booleano - bool\n",
        "\n",
        "print(administrador)"
      ],
      "execution_count": 1,
      "outputs": [
        {
          "output_type": "stream",
          "text": [
            "False\n"
          ],
          "name": "stdout"
        }
      ]
    },
    {
      "cell_type": "code",
      "metadata": {
        "id": "f01OI_lo5dxQ",
        "outputId": "e2e5fd97-3281-43d0-e78e-874e22303092",
        "colab": {
          "base_uri": "https://localhost:8080/",
          "height": 51
        }
      },
      "source": [
        "# Comparação - Igual\n",
        "\n",
        "comparacao_igual = (1 == 1)\n",
        "\n",
        "\n",
        "print(comparacao_igual)\n",
        "\n",
        "print(1 == 1)"
      ],
      "execution_count": 4,
      "outputs": [
        {
          "output_type": "stream",
          "text": [
            "True\n",
            "True\n"
          ],
          "name": "stdout"
        }
      ]
    },
    {
      "cell_type": "code",
      "metadata": {
        "id": "Cr4V13V75v7o",
        "outputId": "34e06969-5050-49b7-d867-da72458ae317",
        "colab": {
          "base_uri": "https://localhost:8080/",
          "height": 34
        }
      },
      "source": [
        "# Comparação - Diferente\n",
        "\n",
        "comparacao_diferente = 1 != 1\n",
        "\n",
        "print(comparacao_diferente)"
      ],
      "execution_count": 5,
      "outputs": [
        {
          "output_type": "stream",
          "text": [
            "False\n"
          ],
          "name": "stdout"
        }
      ]
    },
    {
      "cell_type": "code",
      "metadata": {
        "id": "33UtM4nd59CX",
        "outputId": "b6702a6f-3053-47c4-80f0-0e3c773c9277",
        "colab": {
          "base_uri": "https://localhost:8080/",
          "height": 85
        }
      },
      "source": [
        "# Operadores de Comparação\n",
        "\n",
        "print(1 == 2) # False\n",
        "print(1 != 2) # True\n",
        "print(1 < 2) # True\n",
        "print(1 > 0) # True\n",
        "print(1 >= 1) # True\n",
        "print(5 <= 5) # True"
      ],
      "execution_count": 7,
      "outputs": [
        {
          "output_type": "stream",
          "text": [
            "True\n",
            "True\n",
            "True\n",
            "True\n"
          ],
          "name": "stdout"
        }
      ]
    },
    {
      "cell_type": "code",
      "metadata": {
        "id": "wUuUbu_96Mwc",
        "outputId": "6ab2758c-bfc5-4aaf-ded8-86b7ea442b6b",
        "colab": {
          "base_uri": "https://localhost:8080/",
          "height": 102
        }
      },
      "source": [
        "print(17 < 328)\n",
        "print(100 == (2 * 50))\n",
        "print(19 <= 19)\n",
        "print(-22 >= -18)\n",
        "print(99 != (98 + 1))"
      ],
      "execution_count": 9,
      "outputs": [
        {
          "output_type": "stream",
          "text": [
            "True\n",
            "True\n",
            "True\n",
            "False\n",
            "False\n"
          ],
          "name": "stdout"
        }
      ]
    },
    {
      "cell_type": "code",
      "metadata": {
        "id": "CosdwUW76zgk",
        "outputId": "797eb74d-75f2-4c96-8183-aac64f8f48b8",
        "colab": {
          "base_uri": "https://localhost:8080/",
          "height": 102
        }
      },
      "source": [
        "print((20 - 10) > 15) # False\n",
        "print((10 + 17) == 3 ** 16) # False\n",
        "print(1 ** 2 <= -1) # False\n",
        "print(40 * 4 >= -4) # True\n",
        "print(100 != 10 ** 2) # False"
      ],
      "execution_count": 12,
      "outputs": [
        {
          "output_type": "stream",
          "text": [
            "False\n",
            "False\n",
            "False\n",
            "True\n",
            "False\n"
          ],
          "name": "stdout"
        }
      ]
    },
    {
      "cell_type": "code",
      "metadata": {
        "id": "V8cgc5iC7mFK",
        "outputId": "138f7546-8c1c-4f1d-db7b-161f8c9c62e7",
        "colab": {
          "base_uri": "https://localhost:8080/",
          "height": 85
        }
      },
      "source": [
        "print(\"Rei\" == \"Rei Arthur\") # False\n",
        "print(\"Rei\" != \"Rei Arthur\") # True\n",
        "print(1 == \"1\") # True e False ao mesmo tempo?\n",
        "print(\"1\" == \"1\") #True"
      ],
      "execution_count": 13,
      "outputs": [
        {
          "output_type": "stream",
          "text": [
            "False\n",
            "True\n",
            "False\n",
            "True\n"
          ],
          "name": "stdout"
        }
      ]
    },
    {
      "cell_type": "markdown",
      "metadata": {
        "id": "vATNYJgs8p_z"
      },
      "source": [
        "# Atividade\n",
        "\n",
        "Agora faremos o contrário. Declare variáveis que o resultado das comprações deve ser:\n",
        "\n",
        "```\n",
        "True\n",
        "True\n",
        "False\n",
        "True\n",
        "False\n",
        "```\n"
      ]
    },
    {
      "cell_type": "code",
      "metadata": {
        "id": "NWCWwedr88u6",
        "outputId": "73969c4f-e94a-4601-c3c3-847ae857b842",
        "colab": {
          "base_uri": "https://localhost:8080/",
          "height": 102
        }
      },
      "source": [
        "print(5 > 3) # True\n",
        "print(10 <= 50) # True\n",
        "print(2 != 2) # False\n",
        "print(\"p\" == \"p\") #True\n",
        "print(10 ** 2 == 20) # False"
      ],
      "execution_count": 18,
      "outputs": [
        {
          "output_type": "stream",
          "text": [
            "True\n",
            "True\n",
            "False\n",
            "True\n",
            "False\n"
          ],
          "name": "stdout"
        }
      ]
    },
    {
      "cell_type": "code",
      "metadata": {
        "id": "22VdRC6o9hiq",
        "outputId": "d8e1caf4-9376-43f1-aaef-6e090e046c25",
        "colab": {
          "base_uri": "https://localhost:8080/",
          "height": 102
        }
      },
      "source": [
        "# Operações de comparação - and\n",
        "\n",
        "# And: Todos os lados precisam ser True para que o resultado seja True\n",
        "# Not: Inverte o operador booleano, ou seja, False vira True e True vira False\n",
        "\n",
        "print(True and True) # True\n",
        "print(True and False) # False\n",
        "print(False and False) # False\n",
        "print(not (False and True)) # True\n",
        "print(not False and False) # False"
      ],
      "execution_count": 22,
      "outputs": [
        {
          "output_type": "stream",
          "text": [
            "True\n",
            "False\n",
            "False\n",
            "True\n",
            "False\n"
          ],
          "name": "stdout"
        }
      ]
    },
    {
      "cell_type": "code",
      "metadata": {
        "id": "9u6RGOsV_kDu",
        "outputId": "f8c5b3b3-4522-4711-e717-789aa2f5d0d8",
        "colab": {
          "base_uri": "https://localhost:8080/",
          "height": 102
        }
      },
      "source": [
        "# Or: Precisa que apenas um dos lados seja True\n",
        "\n",
        "print(True or True) # True\n",
        "print(True or False) # True\n",
        "print(False or False) # False\n",
        "print(not (True or False)) # False\n",
        "print(not False or True) # True"
      ],
      "execution_count": 23,
      "outputs": [
        {
          "output_type": "stream",
          "text": [
            "True\n",
            "True\n",
            "False\n",
            "False\n",
            "True\n"
          ],
          "name": "stdout"
        }
      ]
    },
    {
      "cell_type": "code",
      "metadata": {
        "id": "6HZrJz0UAMMd",
        "outputId": "196583d0-9819-4e92-89e2-0565f80f5545",
        "colab": {
          "base_uri": "https://localhost:8080/",
          "height": 119
        }
      },
      "source": [
        "print(not (not (True))) # True\n",
        "print(not True != (not False) or True == False) # True\n",
        "print(True == False and True) # False\n",
        "print(True != (not (not False)) and  True) # True\n",
        "print(True or False or False) # True\n",
        "print(False or True and True and False) # False"
      ],
      "execution_count": 29,
      "outputs": [
        {
          "output_type": "stream",
          "text": [
            "True\n",
            "True\n",
            "False\n",
            "True\n",
            "True\n",
            "False\n"
          ],
          "name": "stdout"
        }
      ]
    },
    {
      "cell_type": "markdown",
      "metadata": {
        "id": "kjJAQtjPQvCZ"
      },
      "source": [
        "\n",
        "# **Ordem da Lógica Booleana**\n",
        "Antes de tudo, resolvemos os operadores de comparação: ==, !=, <, >, <= e >=.\n",
        "\n",
        "1. Primeiro resolvemos o not\n",
        "2. Depois, resolvemos o and\n",
        "3. Por último, resolvemos o or"
      ]
    },
    {
      "cell_type": "code",
      "metadata": {
        "id": "YRVhIgF9RJ-P",
        "outputId": "f73db4cb-9ce5-4a6c-abb6-0c7d25538c42",
        "colab": {
          "base_uri": "https://localhost:8080/",
          "height": 34
        }
      },
      "source": [
        "# if, elif e else\n",
        "\n",
        "# True == True -> True\n",
        "# False == True -> False\n",
        "# Para entrarmos no bloco do if, a condição precisa ser True\n",
        "# If representa \"se\", ou seja, \"se\" algo for verdadeiro\n",
        "# Else representa \"se não - ou - caso contrário\", ou seja, se a condição do if for false, o else será ativado\n",
        "\n",
        "admin = True\n",
        "\n",
        "if admin == True:\n",
        "  print(\"Acesso admin liberado.\")\n",
        "else:\n",
        "  print(\"Acesso bloqueado.\")"
      ],
      "execution_count": 38,
      "outputs": [
        {
          "output_type": "stream",
          "text": [
            "Acesso admin liberado.\n"
          ],
          "name": "stdout"
        }
      ]
    },
    {
      "cell_type": "code",
      "metadata": {
        "id": "fcOw97EFRL0p",
        "outputId": "06f0ffa9-99ef-4f9d-f71f-af6e7067b6a5",
        "colab": {
          "base_uri": "https://localhost:8080/",
          "height": 34
        }
      },
      "source": [
        "\n",
        "numero = 5\n",
        "\n",
        "if numero > 5:\n",
        "  print(f\"O número {numero} é maior do que 5.\")\n",
        "elif numero > 0:\n",
        "  print(f\"O número {numero} é maior do que 0 e também é menor ou igual a 5.\")\n",
        "else:\n",
        "  print(f\"O número {numero} é menor ou igual a 0.\")"
      ],
      "execution_count": 39,
      "outputs": [
        {
          "output_type": "stream",
          "text": [
            "O número 5 é maior do que 0 e também é menor ou igual a 5.\n"
          ],
          "name": "stdout"
        }
      ]
    },
    {
      "cell_type": "code",
      "metadata": {
        "id": "IuyJt3SZRSHC",
        "outputId": "8821fe29-b7a5-42c7-d1fb-527ea6f709e0",
        "colab": {
          "base_uri": "https://localhost:8080/",
          "height": 85
        }
      },
      "source": [
        "\n",
        "nome = \"Paulo\"\n",
        "\n",
        "if False:\n",
        "  print(\"IF\")\n",
        "elif False:\n",
        "  print(\"ELIF 1\")\n",
        "elif True:\n",
        "  print(\"ELIF 2\")\n",
        "else:\n",
        "  print(\"ELSE\")\n",
        "\n",
        "1 # Caixa azul (número inteiro)\n",
        "\"Texto\" # Caixa vermelha (texto)\n",
        "1.5 # Caixa verde (número decimal)\n",
        "True # Caixa rosa (booleano)\n",
        "\n",
        "variavel1 = True # Rosa\n",
        "variavel2 = 1 == 1 # Rosa\n",
        "variavel3 = True and True or not False # Rosa\n",
        "\n",
        "numero = 1\n",
        "print(True) # True\n",
        "print(1 == 1) # True\n",
        "print(numero == 1) # True"
      ],
      "execution_count": 40,
      "outputs": [
        {
          "output_type": "stream",
          "text": [
            "ELIF 2\n",
            "True\n",
            "True\n",
            "True\n"
          ],
          "name": "stdout"
        }
      ]
    },
    {
      "cell_type": "code",
      "metadata": {
        "id": "JkOb82sYRXYZ",
        "outputId": "1f0cb557-fda0-42b3-d027-79c67b2a470f",
        "colab": {
          "base_uri": "https://localhost:8080/",
          "height": 51
        }
      },
      "source": [
        "numero = 10\n",
        "\n",
        "if numero > 5:\n",
        "  print(\"IF\")\n",
        "\n",
        "if not numero > 5 and numero > 0:\n",
        "  print(\"IF 2\")\n",
        "\n",
        "if not numero > 0:\n",
        "  print(\"IF 3\")\n",
        "\n",
        "\n",
        "if numero > 5:\n",
        "  print(\"IF\")\n",
        "elif numero > 0:\n",
        "  print(\"ELIF\")\n",
        "else:\n",
        "  print(\"ELSE\")"
      ],
      "execution_count": 41,
      "outputs": [
        {
          "output_type": "stream",
          "text": [
            "IF\n",
            "IF\n"
          ],
          "name": "stdout"
        }
      ]
    },
    {
      "cell_type": "code",
      "metadata": {
        "id": "3CwTngJxReGD",
        "outputId": "0db5a266-df4c-4b1b-cfb9-f66983c63125",
        "colab": {
          "base_uri": "https://localhost:8080/",
          "height": 34
        }
      },
      "source": [
        "login = \"admin\"\n",
        "senha = \"admin\"\n",
        "\n",
        "# Buscar no banco de dados se existe algum usuário que possui o login 'admin' e a senha 'admin'\n",
        "# Se tiver, trago esse usuário.\n",
        "# Olho se o usuário possui a variável de administrador como True, se tiver, libero acesso à area restrita\n",
        "\n",
        "if login == \"admin\" and senha == \"admin\":\n",
        "  print(\"Admin conectado\")"
      ],
      "execution_count": 42,
      "outputs": [
        {
          "output_type": "stream",
          "text": [
            "Admin conectado\n"
          ],
          "name": "stdout"
        }
      ]
    },
    {
      "cell_type": "markdown",
      "metadata": {
        "id": "5QIa8QXuRihJ"
      },
      "source": [
        "#**Exercício 1**\n",
        "Escreva um programa que receba uma string digitada pelo usuário e caso a string seja igual a “medieval”, exiba no console: “espada”;\n",
        "\n",
        "Caso contrário, se a string for igual a “futurista”, exiba no console: “sabre de luz”;\n",
        "\n",
        "Caso contrário, exiba no console: “Tente novamente.”."
      ]
    },
    {
      "cell_type": "code",
      "metadata": {
        "id": "McsvE1DBMJ8l",
        "outputId": "62ccb29c-bddd-4233-bae0-6ad5edcb11c8",
        "colab": {
          "base_uri": "https://localhost:8080/",
          "height": 51
        }
      },
      "source": [
        "palavra = input(\"Digite uma palavra: \")\n",
        "if palavra == \"medieval\" or palavra == \"Medieval\":\n",
        "  print(\"Espada\")\n",
        "elif palavra == \"futurista\" or palavra == \"Futurista\":\n",
        "  print(\"Sabre de Luz\")\n",
        "else:\n",
        "  print(\"Tente novamente.\")"
      ],
      "execution_count": 33,
      "outputs": [
        {
          "output_type": "stream",
          "text": [
            "Digite uma palavra: Medieval\n",
            "Espada\n"
          ],
          "name": "stdout"
        }
      ]
    },
    {
      "cell_type": "code",
      "metadata": {
        "id": "fv5iz292Nx4D",
        "outputId": "62c7d41e-d2f8-42b0-d7c3-14c019fb1964",
        "colab": {
          "base_uri": "https://localhost:8080/",
          "height": 68
        }
      },
      "source": [
        "escolha_usuario = input(\"Por acaso você é *futurista* ou está mais para *medieval*?\\n\").lower().strip() # strip remove todo o espaço no início ou final e de tabs também\n",
        "\n",
        "if \"medieval\" in escolha_usuario:\n",
        "  print(\"Você recebeu uma espada!\")\n",
        "elif \"futur\" in escolha_usuario:\n",
        "  print(\"Você recebeu um sabre de luz!\")\n",
        "else:\n",
        "  print(\"Tente novamente...\")"
      ],
      "execution_count": 37,
      "outputs": [
        {
          "output_type": "stream",
          "text": [
            "Por acaso você é *futurista* ou está mais para *medieval*?\n",
            "eu sou futurista\n",
            "Você recebeu um sabre de luz!\n"
          ],
          "name": "stdout"
        }
      ]
    },
    {
      "cell_type": "code",
      "metadata": {
        "id": "vrtpGhkmPUv7",
        "outputId": "3d35f5a7-f62f-4c95-edce-a769e4a493ac",
        "colab": {
          "base_uri": "https://localhost:8080/",
          "height": 34
        }
      },
      "source": [
        "print(\"medieval\" in \"texto qualquer medieval texto final\")"
      ],
      "execution_count": 35,
      "outputs": [
        {
          "output_type": "stream",
          "text": [
            "True\n"
          ],
          "name": "stdout"
        }
      ]
    },
    {
      "cell_type": "code",
      "metadata": {
        "id": "UciRx8j8SG2j",
        "outputId": "1db423f5-9aa7-49bf-dca7-33065ebf877b",
        "colab": {
          "base_uri": "https://localhost:8080/",
          "height": 34
        }
      },
      "source": [
        "# Funções\n",
        "\n",
        "# Em resumo, funções são trechos de código em que a gente dá um nome para esse trecho e\n",
        "# executa ele quando for pertinente\n",
        "\n",
        "def exibir_numero():\n",
        "  numero = 1\n",
        "  print(numero)\n",
        "\n",
        "exibir_numero()"
      ],
      "execution_count": 43,
      "outputs": [
        {
          "output_type": "stream",
          "text": [
            "1\n"
          ],
          "name": "stdout"
        }
      ]
    },
    {
      "cell_type": "code",
      "metadata": {
        "id": "N5UH2bXsS0QC",
        "outputId": "51d9bd03-b0cc-4530-8186-a6c85220b039",
        "colab": {
          "base_uri": "https://localhost:8080/",
          "height": 119
        }
      },
      "source": [
        "# Def cria o bloco de código, depois damos um nome, os parênteses representam que é uma função e os dois pontos\n",
        "# representa o início do bloco\n",
        "# Tudo que estiver embaixo, com um nível de indentação a mais do que o nível da própria função, estará dentro\n",
        "# desse trecho\n",
        "\n",
        "def solicitar_escolha():\n",
        "  escolha_usuario = input(\"Por acaso você é *futurista* ou está mais para *medieval*?\\n\").lower().strip() # strip remove todo o espaço no início ou final e de tabs também\n",
        "\n",
        "  if \"medieval\" in escolha_usuario:\n",
        "    print(\"Você recebeu uma espada!\")\n",
        "  elif \"futur\" in escolha_usuario:\n",
        "    print(\"Você recebeu um sabre de luz!\")\n",
        "  else:\n",
        "    print(\"Tente novamente...\")\n",
        "    solicitar_escolha()\n",
        "\n",
        "solicitar_escolha()"
      ],
      "execution_count": 47,
      "outputs": [
        {
          "output_type": "stream",
          "text": [
            "Por acaso você é *futurista* ou está mais para *medieval*?\n",
            "não sei\n",
            "Tente novamente...\n",
            "Por acaso você é *futurista* ou está mais para *medieval*?\n",
            "futurista\n",
            "Você recebeu um sabre de luz!\n"
          ],
          "name": "stdout"
        }
      ]
    },
    {
      "cell_type": "code",
      "metadata": {
        "id": "nNBB4xJHXaP9",
        "outputId": "fe0176f5-7de8-420e-e54a-1c23938cf693",
        "colab": {
          "base_uri": "https://localhost:8080/",
          "height": 85
        }
      },
      "source": [
        "# Parâmetro e Retorno de funções\n",
        "\n",
        "# Vamos construir uma calculadora\n",
        "\n",
        "# Dentro dos parênteses de onde estamos declarando a função, declaramos os PARÂMETROS\n",
        "# Já dentro dos parênteses de onde estamos CHAMANDO a função, declaramos os ARGUMENTOS\n",
        "\n",
        "def somar(numero1, numero2):\n",
        "  resultado_soma = numero1 + numero2\n",
        "  print(resultado_soma)\n",
        "\n",
        "# Ao chamar a função, temos algumas maneiras de fazer isso.\n",
        "\n",
        "# A primeira, mais simples, informamos os argumentos, na ordem\n",
        "somar(900, 1250)\n",
        "\n",
        "# Uma outra forma de declarar, um pouco mais verbosa, mas é útil em alguns casos\n",
        "somar(numero1 = 10, numero2 = 20)\n",
        "somar(numero1 = 80, numero2 = 100)\n",
        "\n",
        "# Por fim, nessa forma escrevemos qual o nome do parâmetro bonitinho, podemos inverter e passar o número 2 antes, por exemplo\n",
        "somar(numero2 = 500, numero1 = 250)"
      ],
      "execution_count": 54,
      "outputs": [
        {
          "output_type": "stream",
          "text": [
            "2150\n",
            "30\n",
            "180\n",
            "750\n"
          ],
          "name": "stdout"
        }
      ]
    },
    {
      "cell_type": "code",
      "metadata": {
        "id": "WbITsJrvZeIp",
        "outputId": "c25fea50-61fd-4fd5-c5dd-76b74d0ba7a8",
        "colab": {
          "base_uri": "https://localhost:8080/",
          "height": 51
        }
      },
      "source": [
        "# Retorno de funções\n",
        "\n",
        "# Vamos construir uma calculadora\n",
        "\n",
        "def somar(numero1, numero2):\n",
        "  resultado_soma = numero1 + numero2\n",
        "  return resultado_soma\n",
        "\n",
        "resultado1 = somar(15, 10)\n",
        "print(resultado1)\n",
        "\n",
        "resultado2 = somar(150, 20)\n",
        "resultado3 = somar(50, 30)\n",
        "resultado4 = somar(resultado2, resultado3)\n",
        "print(resultado4)"
      ],
      "execution_count": 58,
      "outputs": [
        {
          "output_type": "stream",
          "text": [
            "25\n",
            "250\n"
          ],
          "name": "stdout"
        }
      ]
    },
    {
      "cell_type": "code",
      "metadata": {
        "id": "hJsvyQYhaZKw",
        "outputId": "549c85df-3965-4998-e6ae-a1ae67554313",
        "colab": {
          "base_uri": "https://localhost:8080/",
          "height": 68
        }
      },
      "source": [
        "def subtrair(a, b):\n",
        "  return a - b\n",
        "\n",
        "numero1 = 15\n",
        "numero2 = 10\n",
        "resultado1 = subtrair(numero1, numero2)\n",
        "print(resultado1)\n",
        "\n",
        "# Tenho sempre dois escopos: Um é dentro da função; o outro é fora da função, para quem está chamando-a\n",
        "def teste():\n",
        "  print(\"olá, sou um teste\")\n",
        "  return \"Eu sou o retorno da função!\"\n",
        "\n",
        "resultado2 = teste()\n",
        "print(resultado2)"
      ],
      "execution_count": 61,
      "outputs": [
        {
          "output_type": "stream",
          "text": [
            "5\n",
            "olá, sou um teste\n",
            "Eu sou o retorno da função!\n"
          ],
          "name": "stdout"
        }
      ]
    },
    {
      "cell_type": "markdown",
      "metadata": {
        "id": "i5EfQrFxcvnZ"
      },
      "source": [
        "# **Exercício 2**\n",
        "\n",
        "Crie uma função que receba um número como parâmetro, aplique esse número na fórmula abaixo e exiba o resultado no console:\n",
        "\n",
        "numero² + (numero % 10)"
      ]
    },
    {
      "cell_type": "code",
      "metadata": {
        "id": "-Cc1nUJWdN5v",
        "outputId": "0227c5b2-ffca-4b76-c555-f1fc9586b07a",
        "colab": {
          "base_uri": "https://localhost:8080/",
          "height": 51
        }
      },
      "source": [
        "def calcularNumero(numero):\n",
        "  resultado = numero * numero + numero % 10\n",
        "  print(resultado)\n",
        "\n",
        "calcularNumero(20)\n",
        "calcularNumero(30)"
      ],
      "execution_count": 62,
      "outputs": [
        {
          "output_type": "stream",
          "text": [
            "400\n",
            "900\n"
          ],
          "name": "stdout"
        }
      ]
    },
    {
      "cell_type": "code",
      "metadata": {
        "id": "4UVGt5Uod10i"
      },
      "source": [
        "def calcularNumero(numero):\n",
        "  resultado = numero * numero + numero % 10\n",
        "  print(resultado)\n",
        "\n",
        "calcularNumero(20)\n",
        "calcularNumero(30)"
      ],
      "execution_count": null,
      "outputs": []
    },
    {
      "cell_type": "code",
      "metadata": {
        "id": "uh5m_PDXd5Ar",
        "outputId": "cfd868b0-e97a-4500-e88a-768c10c14fa1",
        "colab": {
          "base_uri": "https://localhost:8080/",
          "height": 51
        }
      },
      "source": [
        "# EXTRA!\n",
        "\n",
        "def somarNumero(*numeros):\n",
        "  return sum(numeros)\n",
        "\n",
        "resultado1 = somarNumero(1, 2, 3, 4, 5, 6)\n",
        "print(resultado1)\n",
        "\n",
        "resultado2 = somarNumero(10, 20, 30)\n",
        "print(resultado2)"
      ],
      "execution_count": 65,
      "outputs": [
        {
          "output_type": "stream",
          "text": [
            "21\n",
            "60\n"
          ],
          "name": "stdout"
        }
      ]
    },
    {
      "cell_type": "markdown",
      "metadata": {
        "id": "-4dyeyzReh1O"
      },
      "source": [
        "#**Praticando: Hotel**\n",
        "Crie uma função chamada ‘custo_hotel’ que receba um parâmetro (argumento) chamado ‘noites’ e retorne o custo total do hotel, sendo que 1 noite custa R$ 140,00.\n",
        "\n",
        "#**Praticando: Avião**\n",
        "Crie uma função chamada ‘custo_aviao’ que receba o nome da cidade e retorne o custo da passagem de avião, sendo que passagem para:\n",
        "\n",
        "* São Paulo custa R$ 312,00;\n",
        "\n",
        "* Porto Alegre custa R$ 447,00;\n",
        "\n",
        "* Recife custa R$ 831,00;\n",
        "\n",
        "* Manaus custa R$ 986,00.\n",
        "\n",
        "#**Praticando: Carro**\n",
        "Crie uma função chamada ‘custo_carro’ que receba um parâmetro chamado ‘dias’. Calcule o custo do aluguel do carro sendo que:\n",
        "\n",
        "* A cada dia o carro custa R$ 40,00;\n",
        "\n",
        "* Alugando 7 dias ou +: R$ 50,00 de desconto;\n",
        "\n",
        "* Alugando 3 dias ou +: R$ 20,00 de desconto;\n",
        "\n",
        "* Você pode receber apenas um desconto;\n",
        "\n",
        "* Retorne o custo."
      ]
    }
  ]
}